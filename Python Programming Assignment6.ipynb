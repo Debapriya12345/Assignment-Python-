{
 "cells": [
  {
   "cell_type": "code",
   "execution_count": 120,
   "id": "c4fea3e2",
   "metadata": {},
   "outputs": [],
   "source": [
    "def find_the_difference(s,t):\n",
    "    x=sorted(s)\n",
    "    y=sorted(t)\n",
    "    print(type(sorted(t)))\n",
    "    print(x,y)\n",
    "    i=0\n",
    "    for i in range(0,len(x)):\n",
    "        if y[i]!= x[i]:\n",
    "            print(y[i])\n",
    "            break\n",
    "        i+=1\n",
    "    if(i==len(x)):\n",
    "        print(y[-1])"
   ]
  },
  {
   "cell_type": "code",
   "execution_count": 121,
   "id": "ab4e1d7b",
   "metadata": {},
   "outputs": [
    {
     "name": "stdout",
     "output_type": "stream",
     "text": [
      "<class 'list'>\n",
      "['a', 'b', 'c', 'd'] ['a', 'b', 'c', 'd', 'e']\n",
      "e\n"
     ]
    }
   ],
   "source": [
    "find_the_difference('abcd','abcde')"
   ]
  },
  {
   "cell_type": "code",
   "execution_count": 122,
   "id": "a0f60753",
   "metadata": {},
   "outputs": [],
   "source": [
    "def count_datatypes(*l):#[int, str, bool, list, tuple, dictionary]:>>Answer Will come in this fashion\n",
    "    print(l)\n",
    "    a,b,c,d,e,f=0,0,0,0,0,0\n",
    "    print(type(l))\n",
    "    print(l[0])\n",
    "    for i in range (0,len(l)):\n",
    "        if type(l[i])==int:\n",
    "            a+=1\n",
    "        elif type(l[i])==str:\n",
    "            b+=1\n",
    "        elif type(l[i])==bool:\n",
    "            c+=1\n",
    "        elif type(l[i])==list:\n",
    "            d+=1\n",
    "        elif type(l[i])==tuple:\n",
    "            e+=1\n",
    "        elif type(l[i])==dict:\n",
    "            f+=1\n",
    "    lst=[a,b,c,d,e,f]\n",
    "    print(lst)\n",
    "    "
   ]
  },
  {
   "cell_type": "code",
   "execution_count": 123,
   "id": "e23be200",
   "metadata": {},
   "outputs": [
    {
     "name": "stdout",
     "output_type": "stream",
     "text": [
      "('Hello', 'Bye', True, True, False, {'1': 'One', '2': 'Two'}, [1, 2], {'Brayan': 18}, 25, 23)\n",
      "<class 'tuple'>\n",
      "Hello\n",
      "[2, 2, 3, 1, 0, 2]\n"
     ]
    }
   ],
   "source": [
    "l=('Hello','Bye',True, True, False, {'1':'One','2':'Two'},[1,2],{'Brayan': 18}, 25, 23)\n",
    "count_datatypes(*l)"
   ]
  },
  {
   "cell_type": "code",
   "execution_count": 124,
   "id": "c90dcf23",
   "metadata": {},
   "outputs": [
    {
     "name": "stdout",
     "output_type": "stream",
     "text": [
      "Enter the number 4\n",
      "Enter first letter d\n",
      "Enter second letter r\n",
      "d\n",
      "r\n",
      "rd\n",
      "rdr\n"
     ]
    }
   ],
   "source": [
    "n=int(input(\"Enter the number \"))\n",
    "a=input(\"Enter first letter \")\n",
    "b=input(\"Enter second letter \")\n",
    "fib=[n,[a,b]]\n",
    "x,y=a,b\n",
    "print(a)\n",
    "print(b)\n",
    "z=y+x\n",
    "for i in range (2,n):\n",
    "    print(z)\n",
    "    x=y\n",
    "    y=z\n",
    "    z=y+x"
   ]
  },
  {
   "cell_type": "code",
   "execution_count": 145,
   "id": "a8004e9e",
   "metadata": {},
   "outputs": [],
   "source": [
    "def function(n):\n",
    "    ans=\"\"\n",
    "    ans=\"Nines :\"+str(n//9)\n",
    "    n=n%9\n",
    "    ans+=\", threes : \"+str(n//3)\n",
    "    n=n%3\n",
    "    ans+=\" ,ones: \"+str(n)\n",
    "    return(ans)"
   ]
  },
  {
   "cell_type": "code",
   "execution_count": 146,
   "id": "7673a8e9",
   "metadata": {},
   "outputs": [
    {
     "name": "stdout",
     "output_type": "stream",
     "text": [
      "Enter the number between 0 to 26  23\n"
     ]
    },
    {
     "data": {
      "text/plain": [
       "'Nines :2, threes : 1 ,ones: 2'"
      ]
     },
     "execution_count": 146,
     "metadata": {},
     "output_type": "execute_result"
    }
   ],
   "source": [
    "n=int(input(\"Enter the number between 0 to 26  \"))\n",
    "if(n>26 or n<0):\n",
    "    print(\"Enter the number between Range \")\n",
    "else:\n",
    "    ans=function(n)\n",
    "ans     "
   ]
  },
  {
   "cell_type": "code",
   "execution_count": 147,
   "id": "4c56cc62",
   "metadata": {},
   "outputs": [],
   "source": [
    "def fib(n):\n",
    "#n=int(input(\"Enter the number \"))\n",
    "    x,y=0,1\n",
    "    z=x+y\n",
    "    for i in range (2,n):\n",
    "        x=y\n",
    "        y=z\n",
    "        z=y+x\n",
    "    return(z)"
   ]
  },
  {
   "cell_type": "code",
   "execution_count": 148,
   "id": "7d248a9f",
   "metadata": {},
   "outputs": [
    {
     "name": "stdout",
     "output_type": "stream",
     "text": [
      "Enter the number 8\n"
     ]
    },
    {
     "data": {
      "text/plain": [
       "21"
      ]
     },
     "execution_count": 148,
     "metadata": {},
     "output_type": "execute_result"
    }
   ],
   "source": [
    "n=int(input(\"Enter the number \"))\n",
    "fib(n)"
   ]
  },
  {
   "cell_type": "code",
   "execution_count": null,
   "id": "107ab290",
   "metadata": {},
   "outputs": [],
   "source": []
  }
 ],
 "metadata": {
  "kernelspec": {
   "display_name": "Python 3",
   "language": "python",
   "name": "python3"
  },
  "language_info": {
   "codemirror_mode": {
    "name": "ipython",
    "version": 3
   },
   "file_extension": ".py",
   "mimetype": "text/x-python",
   "name": "python",
   "nbconvert_exporter": "python",
   "pygments_lexer": "ipython3",
   "version": "3.8.8"
  }
 },
 "nbformat": 4,
 "nbformat_minor": 5
}
