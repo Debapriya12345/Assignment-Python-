{
 "cells": [
  {
   "cell_type": "markdown",
   "id": "c3439c75",
   "metadata": {},
   "source": [
    "# Assignment_16(Python Basic Assignment)The Question Numbers are written after each line"
   ]
  },
  {
   "cell_type": "code",
   "execution_count": 80,
   "id": "c93a9eba",
   "metadata": {},
   "outputs": [],
   "source": [
    "years_list=[*range(2000,2006,1)]"
   ]
  },
  {
   "cell_type": "code",
   "execution_count": 81,
   "id": "860e7631",
   "metadata": {},
   "outputs": [
    {
     "data": {
      "text/plain": [
       "[2000, 2001, 2002, 2003, 2004, 2005]"
      ]
     },
     "execution_count": 81,
     "metadata": {},
     "output_type": "execute_result"
    }
   ],
   "source": [
    "years_list#1"
   ]
  },
  {
   "cell_type": "code",
   "execution_count": 82,
   "id": "d8ec5977",
   "metadata": {},
   "outputs": [
    {
     "name": "stdout",
     "output_type": "stream",
     "text": [
      "My Third Birthday will be  2003\n"
     ]
    }
   ],
   "source": [
    "print(\"My Third Birthday will be \",years_list[3])#2"
   ]
  },
  {
   "cell_type": "code",
   "execution_count": 83,
   "id": "e1c86105",
   "metadata": {},
   "outputs": [
    {
     "name": "stdout",
     "output_type": "stream",
     "text": [
      "I'm Oldest in the year  2005\n"
     ]
    }
   ],
   "source": [
    "print(\"I'm Oldest in the year \",years_list[-1])#3"
   ]
  },
  {
   "cell_type": "code",
   "execution_count": 84,
   "id": "3af1147b",
   "metadata": {},
   "outputs": [],
   "source": [
    "things=[\"mozzarella\",\"cinderella\",\"salmonella\"]#4"
   ]
  },
  {
   "cell_type": "code",
   "execution_count": 85,
   "id": "9a06f7dd",
   "metadata": {},
   "outputs": [
    {
     "data": {
      "text/plain": [
       "'CINDERELLA'"
      ]
     },
     "execution_count": 85,
     "metadata": {},
     "output_type": "execute_result"
    }
   ],
   "source": [
    "things[1].upper()#5"
   ]
  },
  {
   "cell_type": "code",
   "execution_count": 86,
   "id": "ad4b7df7",
   "metadata": {},
   "outputs": [
    {
     "data": {
      "text/plain": [
       "['mozzarella', 'cinderella', 'salmonella']"
      ]
     },
     "execution_count": 86,
     "metadata": {},
     "output_type": "execute_result"
    }
   ],
   "source": [
    "things#5"
   ]
  },
  {
   "cell_type": "markdown",
   "id": "e1ff8d11",
   "metadata": {},
   "source": [
    "# So,It Does not change the elements of the list."
   ]
  },
  {
   "cell_type": "code",
   "execution_count": 87,
   "id": "67dbede7",
   "metadata": {},
   "outputs": [],
   "source": [
    "surprise=[\"Groucho\",\"Chico\",\"Harpo\"]#6"
   ]
  },
  {
   "cell_type": "code",
   "execution_count": 88,
   "id": "37990e3a",
   "metadata": {},
   "outputs": [
    {
     "data": {
      "text/plain": [
       "'OPRAH'"
      ]
     },
     "execution_count": 88,
     "metadata": {},
     "output_type": "execute_result"
    }
   ],
   "source": [
    "a=surprise[-1].lower()\n",
    "word=\"\"\n",
    "for i in reversed(a):\n",
    "   word+=i\n",
    "word.upper()#7"
   ]
  },
  {
   "cell_type": "code",
   "execution_count": 89,
   "id": "7c00c5c8",
   "metadata": {},
   "outputs": [],
   "source": [
    "e2f={'dog':\n",
    "'chien','cat':'chat','walrus':'morse'}#8"
   ]
  },
  {
   "cell_type": "code",
   "execution_count": 90,
   "id": "c1e487db",
   "metadata": {},
   "outputs": [
    {
     "data": {
      "text/plain": [
       "'morse'"
      ]
     },
     "execution_count": 90,
     "metadata": {},
     "output_type": "execute_result"
    }
   ],
   "source": [
    "e2f['walrus']#9"
   ]
  },
  {
   "cell_type": "code",
   "execution_count": 91,
   "id": "a3523233",
   "metadata": {},
   "outputs": [
    {
     "name": "stdout",
     "output_type": "stream",
     "text": [
      "French to English Dictionary is \n",
      " {'chien': 'dog', 'chat': 'cat', 'morse': 'walrus'}\n"
     ]
    }
   ],
   "source": [
    "f2e={}\n",
    "for i,j in e2f.items():\n",
    "    f2e[j]=i\n",
    "print(\"French to English Dictionary is \\n\",f2e)#10"
   ]
  },
  {
   "cell_type": "code",
   "execution_count": 92,
   "id": "7eacd212",
   "metadata": {},
   "outputs": [
    {
     "data": {
      "text/plain": [
       "'dog'"
      ]
     },
     "execution_count": 92,
     "metadata": {},
     "output_type": "execute_result"
    }
   ],
   "source": [
    "f2e['chien']#11"
   ]
  },
  {
   "cell_type": "code",
   "execution_count": 93,
   "id": "53e1a4ad",
   "metadata": {},
   "outputs": [
    {
     "name": "stdout",
     "output_type": "stream",
     "text": [
      "The English Words are \n",
      "dog\n",
      "cat\n",
      "walrus\n"
     ]
    }
   ],
   "source": [
    "print(\"The English Words are \")\n",
    "for i in e2f.keys():\n",
    "    print(i)#12"
   ]
  },
  {
   "cell_type": "code",
   "execution_count": 94,
   "id": "6b36b046",
   "metadata": {},
   "outputs": [],
   "source": [
    "life={'animals':{'cats':{'Henri','Grumpy','Lucy'},'octopi':{},\n",
    "'emus':{}},'plants':{},\n",
    "'other':{}}#13"
   ]
  },
  {
   "cell_type": "code",
   "execution_count": 95,
   "id": "3d985e82",
   "metadata": {},
   "outputs": [
    {
     "data": {
      "text/plain": [
       "{'animals': {'cats': {'Grumpy', 'Henri', 'Lucy'}, 'octopi': {}, 'emus': {}},\n",
       " 'plants': {},\n",
       " 'other': {}}"
      ]
     },
     "execution_count": 95,
     "metadata": {},
     "output_type": "execute_result"
    }
   ],
   "source": [
    "life"
   ]
  },
  {
   "cell_type": "code",
   "execution_count": 96,
   "id": "fa85452d",
   "metadata": {},
   "outputs": [
    {
     "data": {
      "text/plain": [
       "dict_keys(['animals', 'plants', 'other'])"
      ]
     },
     "execution_count": 96,
     "metadata": {},
     "output_type": "execute_result"
    }
   ],
   "source": [
    "life.keys()#14"
   ]
  },
  {
   "cell_type": "code",
   "execution_count": 97,
   "id": "53eef432",
   "metadata": {},
   "outputs": [
    {
     "data": {
      "text/plain": [
       "dict_keys(['cats', 'octopi', 'emus'])"
      ]
     },
     "execution_count": 97,
     "metadata": {},
     "output_type": "execute_result"
    }
   ],
   "source": [
    "life['animals'].keys()#15"
   ]
  },
  {
   "cell_type": "code",
   "execution_count": 98,
   "id": "fcfcd029",
   "metadata": {},
   "outputs": [
    {
     "data": {
      "text/plain": [
       "{'Grumpy', 'Henri', 'Lucy'}"
      ]
     },
     "execution_count": 98,
     "metadata": {},
     "output_type": "execute_result"
    }
   ],
   "source": [
    "life['animals']['cats']#16"
   ]
  },
  {
   "cell_type": "code",
   "execution_count": null,
   "id": "75535851",
   "metadata": {},
   "outputs": [],
   "source": []
  },
  {
   "cell_type": "code",
   "execution_count": null,
   "id": "486f0ca1",
   "metadata": {},
   "outputs": [],
   "source": []
  }
 ],
 "metadata": {
  "kernelspec": {
   "display_name": "Python 3",
   "language": "python",
   "name": "python3"
  },
  "language_info": {
   "codemirror_mode": {
    "name": "ipython",
    "version": 3
   },
   "file_extension": ".py",
   "mimetype": "text/x-python",
   "name": "python",
   "nbconvert_exporter": "python",
   "pygments_lexer": "ipython3",
   "version": "3.8.8"
  }
 },
 "nbformat": 4,
 "nbformat_minor": 5
}
